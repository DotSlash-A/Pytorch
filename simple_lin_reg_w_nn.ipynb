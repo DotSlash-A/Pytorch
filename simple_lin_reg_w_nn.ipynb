{
  "nbformat": 4,
  "nbformat_minor": 0,
  "metadata": {
    "colab": {
      "provenance": []
    },
    "kernelspec": {
      "name": "python3",
      "display_name": "Python 3"
    },
    "language_info": {
      "name": "python"
    }
  },
  "cells": [
    {
      "cell_type": "code",
      "execution_count": 41,
      "metadata": {
        "id": "5nQrnzCS68c2"
      },
      "outputs": [],
      "source": [
        "import numpy as np\n",
        "import matplotlib.pyplot as plt\n"
      ]
    },
    {
      "cell_type": "code",
      "source": [
        "x=np.array([1,2,3,4])"
      ],
      "metadata": {
        "id": "rRnk0_Z07Brx"
      },
      "execution_count": 2,
      "outputs": []
    },
    {
      "cell_type": "code",
      "source": [
        "y=np.arange(50)\n",
        "\n",
        "y"
      ],
      "metadata": {
        "colab": {
          "base_uri": "https://localhost:8080/"
        },
        "id": "gDn3ZX5C7prw",
        "outputId": "09952136-dd3f-40de-f1cc-fcf572c08e17"
      },
      "execution_count": 3,
      "outputs": [
        {
          "output_type": "execute_result",
          "data": {
            "text/plain": [
              "array([ 0,  1,  2,  3,  4,  5,  6,  7,  8,  9, 10, 11, 12, 13, 14, 15, 16,\n",
              "       17, 18, 19, 20, 21, 22, 23, 24, 25, 26, 27, 28, 29, 30, 31, 32, 33,\n",
              "       34, 35, 36, 37, 38, 39, 40, 41, 42, 43, 44, 45, 46, 47, 48, 49])"
            ]
          },
          "metadata": {},
          "execution_count": 3
        }
      ]
    },
    {
      "cell_type": "code",
      "source": [
        "#Start a 1, end at 20, step size of 3\n",
        "z=np.arange(1,20,3)\n",
        "z"
      ],
      "metadata": {
        "colab": {
          "base_uri": "https://localhost:8080/"
        },
        "id": "-ECTdCex71uv",
        "outputId": "d6ffed60-c8bf-41a1-a88c-28bc52b25edd"
      },
      "execution_count": 4,
      "outputs": [
        {
          "output_type": "execute_result",
          "data": {
            "text/plain": [
              "array([ 1,  4,  7, 10, 13, 16, 19])"
            ]
          },
          "metadata": {},
          "execution_count": 4
        }
      ]
    },
    {
      "cell_type": "code",
      "source": [
        "z=np.arange(0,125,25)\n",
        "z"
      ],
      "metadata": {
        "colab": {
          "base_uri": "https://localhost:8080/"
        },
        "id": "yZjpQoLi8CCg",
        "outputId": "f0eabf1b-0722-4ca3-ed69-94e98060371e"
      },
      "execution_count": 8,
      "outputs": [
        {
          "output_type": "execute_result",
          "data": {
            "text/plain": [
              "array([  0,  25,  50,  75, 100])"
            ]
          },
          "metadata": {},
          "execution_count": 8
        }
      ]
    },
    {
      "cell_type": "code",
      "source": [
        "np.linspace(0,100,5,dtype=int)"
      ],
      "metadata": {
        "colab": {
          "base_uri": "https://localhost:8080/"
        },
        "id": "TZY45GPt8NQl",
        "outputId": "9323580d-72bd-41be-ea92-8aac13762dfe"
      },
      "execution_count": 10,
      "outputs": [
        {
          "output_type": "execute_result",
          "data": {
            "text/plain": [
              "array([  0,  25,  50,  75, 100])"
            ]
          },
          "metadata": {},
          "execution_count": 10
        }
      ]
    },
    {
      "cell_type": "code",
      "source": [
        "np.ones(12)"
      ],
      "metadata": {
        "colab": {
          "base_uri": "https://localhost:8080/"
        },
        "id": "9yuhnI1r8hCk",
        "outputId": "702263e6-6555-4ef7-c2fa-40a3469578b8"
      },
      "execution_count": 11,
      "outputs": [
        {
          "output_type": "execute_result",
          "data": {
            "text/plain": [
              "array([1., 1., 1., 1., 1., 1., 1., 1., 1., 1., 1., 1.])"
            ]
          },
          "metadata": {},
          "execution_count": 11
        }
      ]
    },
    {
      "cell_type": "code",
      "source": [
        "np.zeros(12)"
      ],
      "metadata": {
        "colab": {
          "base_uri": "https://localhost:8080/"
        },
        "id": "pIFIoy6O8zk3",
        "outputId": "a15c2511-4edc-49ea-dd9c-d0e0e4ea5976"
      },
      "execution_count": 15,
      "outputs": [
        {
          "output_type": "execute_result",
          "data": {
            "text/plain": [
              "array([0., 0., 0., 0., 0., 0., 0., 0., 0., 0., 0., 0.])"
            ]
          },
          "metadata": {},
          "execution_count": 15
        }
      ]
    },
    {
      "cell_type": "code",
      "source": [
        "np.random.rand(7)"
      ],
      "metadata": {
        "colab": {
          "base_uri": "https://localhost:8080/"
        },
        "id": "1Lo0HYvD83eg",
        "outputId": "f868e4f7-29e5-46d8-a76d-af40f88875c8"
      },
      "execution_count": 16,
      "outputs": [
        {
          "output_type": "execute_result",
          "data": {
            "text/plain": [
              "array([0.68583622, 0.07521516, 0.40335006, 0.10221103, 0.80950232,\n",
              "       0.06253797, 0.71665708])"
            ]
          },
          "metadata": {},
          "execution_count": 16
        }
      ]
    },
    {
      "cell_type": "code",
      "source": [
        "array_1D = np.array([1, 2, 3, 4, 5, 6])\n",
        "np.reshape(array_1D,(2,3))"
      ],
      "metadata": {
        "colab": {
          "base_uri": "https://localhost:8080/"
        },
        "id": "IOnXW67X9GBk",
        "outputId": "b20add80-7425-4389-c82b-882277e59aed"
      },
      "execution_count": 19,
      "outputs": [
        {
          "output_type": "execute_result",
          "data": {
            "text/plain": [
              "array([[1, 2, 3],\n",
              "       [4, 5, 6]])"
            ]
          },
          "metadata": {},
          "execution_count": 19
        }
      ]
    },
    {
      "cell_type": "markdown",
      "source": [
        "![](https://cdn.discordapp.com/attachments/1133439076641554453/1148852660502536213/image.png)"
      ],
      "metadata": {
        "id": "0YbMw669-5b-"
      }
    },
    {
      "cell_type": "code",
      "source": [
        "A=np.array([[-1,3],[3,2]])\n",
        "A\n"
      ],
      "metadata": {
        "colab": {
          "base_uri": "https://localhost:8080/"
        },
        "id": "tt6QPzHj90Ei",
        "outputId": "86ed323b-0271-4d60-8bda-b983466e6e19"
      },
      "execution_count": 21,
      "outputs": [
        {
          "output_type": "execute_result",
          "data": {
            "text/plain": [
              "array([[-1,  3],\n",
              "       [ 3,  2]])"
            ]
          },
          "metadata": {},
          "execution_count": 21
        }
      ]
    },
    {
      "cell_type": "code",
      "source": [
        "B=np.array([7,1])\n",
        "B"
      ],
      "metadata": {
        "colab": {
          "base_uri": "https://localhost:8080/"
        },
        "id": "CDVsq8J3_KFA",
        "outputId": "943bb37f-8638-44c9-ae38-76ce5b36bc9f"
      },
      "execution_count": 23,
      "outputs": [
        {
          "output_type": "execute_result",
          "data": {
            "text/plain": [
              "array([7, 1])"
            ]
          },
          "metadata": {},
          "execution_count": 23
        }
      ]
    },
    {
      "cell_type": "code",
      "source": [
        "np.linalg.solve(A,B)"
      ],
      "metadata": {
        "colab": {
          "base_uri": "https://localhost:8080/"
        },
        "id": "7poICTdZ_O-F",
        "outputId": "731c3534-11e2-4c6d-f2d4-3c0fd9ee4a29"
      },
      "execution_count": 24,
      "outputs": [
        {
          "output_type": "execute_result",
          "data": {
            "text/plain": [
              "array([-1.,  2.])"
            ]
          },
          "metadata": {},
          "execution_count": 24
        }
      ]
    },
    {
      "cell_type": "code",
      "source": [
        "np.linalg.det(A)"
      ],
      "metadata": {
        "colab": {
          "base_uri": "https://localhost:8080/"
        },
        "id": "sTDZpZdg_aHH",
        "outputId": "5d58d22d-108a-483a-cc21-029c29bd2366"
      },
      "execution_count": 25,
      "outputs": [
        {
          "output_type": "execute_result",
          "data": {
            "text/plain": [
              "-11.000000000000002"
            ]
          },
          "metadata": {},
          "execution_count": 25
        }
      ]
    },
    {
      "cell_type": "markdown",
      "source": [
        "![](https://cdn.discordapp.com/attachments/1133439076641554453/1148854420067590184/image.png)"
      ],
      "metadata": {
        "id": "mZhAEGK__yzy"
      }
    },
    {
      "cell_type": "code",
      "source": [
        "A=np.array([[2,-1,1,1],[1,2,-1,-1],[-1,2,2,2],[1,-1,2,1]])\n",
        "B=np.array([6,3,14,8])\n",
        "np.linalg.solve(A,B)"
      ],
      "metadata": {
        "colab": {
          "base_uri": "https://localhost:8080/"
        },
        "id": "5pHcpL8H_gFB",
        "outputId": "4793c83a-3a07-414e-a28c-27caf5a82152"
      },
      "execution_count": 26,
      "outputs": [
        {
          "output_type": "execute_result",
          "data": {
            "text/plain": [
              "array([2., 3., 4., 1.])"
            ]
          },
          "metadata": {},
          "execution_count": 26
        }
      ]
    },
    {
      "cell_type": "code",
      "source": [
        "A = np.array([\n",
        "    [4, 9, 9],\n",
        "    [9, 1, 6],\n",
        "    [9, 2, 3]\n",
        "])\n",
        "\n",
        "B = np.array([\n",
        "    [2, 2],\n",
        "    [5, 7],\n",
        "    [4, 4]\n",
        "])\n",
        "np.matmul(A,B)"
      ],
      "metadata": {
        "colab": {
          "base_uri": "https://localhost:8080/"
        },
        "id": "KOiFL393AFlo",
        "outputId": "f51130cf-9307-4cb8-8df7-aedc3bb37537"
      },
      "execution_count": 27,
      "outputs": [
        {
          "output_type": "execute_result",
          "data": {
            "text/plain": [
              "array([[ 89, 107],\n",
              "       [ 47,  49],\n",
              "       [ 40,  44]])"
            ]
          },
          "metadata": {},
          "execution_count": 27
        }
      ]
    },
    {
      "cell_type": "code",
      "source": [
        "A@B"
      ],
      "metadata": {
        "colab": {
          "base_uri": "https://localhost:8080/"
        },
        "id": "WSKF4uZsAesJ",
        "outputId": "41990275-138c-47a3-d44b-7ec265335582"
      },
      "execution_count": 28,
      "outputs": [
        {
          "output_type": "execute_result",
          "data": {
            "text/plain": [
              "array([[ 89, 107],\n",
              "       [ 47,  49],\n",
              "       [ 40,  44]])"
            ]
          },
          "metadata": {},
          "execution_count": 28
        }
      ]
    },
    {
      "cell_type": "code",
      "source": [
        "x = np.array([1, -2, -5])\n",
        "y = np.array([4, 3, -1])\n",
        "np.dot(x,y)"
      ],
      "metadata": {
        "colab": {
          "base_uri": "https://localhost:8080/"
        },
        "id": "OEw-zF5CAgWe",
        "outputId": "efb780c5-5306-4f7f-b7d4-f2194a6a9a7a"
      },
      "execution_count": 30,
      "outputs": [
        {
          "output_type": "execute_result",
          "data": {
            "text/plain": [
              "3"
            ]
          },
          "metadata": {},
          "execution_count": 30
        }
      ]
    },
    {
      "cell_type": "code",
      "source": [
        "A - 2"
      ],
      "metadata": {
        "colab": {
          "base_uri": "https://localhost:8080/"
        },
        "id": "cILGzMR3ArpP",
        "outputId": "aeca6c3f-a005-4344-dee3-3f0316341161"
      },
      "execution_count": 31,
      "outputs": [
        {
          "output_type": "execute_result",
          "data": {
            "text/plain": [
              "array([[ 2,  7,  7],\n",
              "       [ 7, -1,  4],\n",
              "       [ 7,  0,  1]])"
            ]
          },
          "metadata": {},
          "execution_count": 31
        }
      ]
    },
    {
      "cell_type": "markdown",
      "source": [
        "$\\hat{y} = wx + b$"
      ],
      "metadata": {
        "id": "9zkijnP_BNwf"
      }
    },
    {
      "cell_type": "code",
      "source": [
        "from sklearn.datasets import make_regression"
      ],
      "metadata": {
        "id": "84qvzH6_A6nd"
      },
      "execution_count": 32,
      "outputs": []
    },
    {
      "cell_type": "code",
      "source": [
        "m = 30\n",
        "\n",
        "X, y = make_regression(\n",
        "    n_samples = 30,\n",
        "    n_features = 1,\n",
        "    noise = 20,\n",
        "    random_state = 1\n",
        ")\n",
        "\n",
        "X = X.reshape((1, m))\n",
        "y = y.reshape((1, m))"
      ],
      "metadata": {
        "id": "JZU__PdTBZPg"
      },
      "execution_count": 39,
      "outputs": []
    },
    {
      "cell_type": "code",
      "source": [
        "X"
      ],
      "metadata": {
        "colab": {
          "base_uri": "https://localhost:8080/"
        },
        "id": "yjjoZdnCBd7G",
        "outputId": "0e451e1e-f4b6-4939-83fe-8544a9066be0"
      },
      "execution_count": 45,
      "outputs": [
        {
          "output_type": "execute_result",
          "data": {
            "text/plain": [
              "array([[ 0.3190391 , -1.07296862,  0.86540763, -0.17242821,  1.14472371,\n",
              "         0.50249434, -2.3015387 , -0.68372786, -0.38405435, -0.87785842,\n",
              "        -2.06014071, -1.10061918, -1.09989127,  1.13376944,  1.74481176,\n",
              "        -0.12289023, -0.93576943,  1.62434536,  1.46210794,  0.90159072,\n",
              "        -0.7612069 ,  0.53035547, -0.52817175, -0.26788808,  0.58281521,\n",
              "         0.04221375,  0.90085595, -0.24937038, -0.61175641, -0.3224172 ]])"
            ]
          },
          "metadata": {},
          "execution_count": 45
        }
      ]
    },
    {
      "cell_type": "code",
      "source": [
        "plt.scatter(X, y, c = 'black')\n",
        "plt.xlabel('$x$')\n",
        "plt.ylabel('$y$')\n"
      ],
      "metadata": {
        "colab": {
          "base_uri": "https://localhost:8080/",
          "height": 466
        },
        "id": "rwyo44ilBh-R",
        "outputId": "444bc051-f7e3-4594-821d-b22bf46d2adc"
      },
      "execution_count": 42,
      "outputs": [
        {
          "output_type": "execute_result",
          "data": {
            "text/plain": [
              "Text(0, 0.5, '$y$')"
            ]
          },
          "metadata": {},
          "execution_count": 42
        },
        {
          "output_type": "display_data",
          "data": {
            "text/plain": [
              "<Figure size 640x480 with 1 Axes>"
            ],
            "image/png": "[encoded data removed]"
          },
          "metadata": {}
        }
      ]
    },
    {
      "cell_type": "markdown",
      "source": [
        "### **Implementation of neural network model for linear regression**"
      ],
      "metadata": {
        "id": "A08FwSgaCHQC"
      }
    },
    {
      "cell_type": "code",
      "source": [
        "#returns the number of rows of both X,y\n",
        "def layer_sizes(X,y):\n",
        "  return X.shape[0],y.shape[0]"
      ],
      "metadata": {
        "id": "G8SToygQB0yS"
      },
      "execution_count": 43,
      "outputs": []
    },
    {
      "cell_type": "code",
      "source": [
        "n_x, n_y=layer_sizes(X,y)"
      ],
      "metadata": {
        "id": "lLlIOOM4Ck-Y"
      },
      "execution_count": 44,
      "outputs": []
    },
    {
      "cell_type": "code",
      "source": [
        "n_x,n_y"
      ],
      "metadata": {
        "colab": {
          "base_uri": "https://localhost:8080/"
        },
        "id": "_COhzfYGCrdr",
        "outputId": "a36f6e16-942c-4ab5-c246-dc15fb819869"
      },
      "execution_count": 46,
      "outputs": [
        {
          "output_type": "execute_result",
          "data": {
            "text/plain": [
              "(1, 1)"
            ]
          },
          "metadata": {},
          "execution_count": 46
        }
      ]
    },
    {
      "cell_type": "code",
      "source": [
        "def init_params(n_x, n_y):\n",
        "  W = np.random.randn(n_y, n_x)*0.01\n",
        "  b = np.zeros((n_y, 1))\n",
        "\n",
        "  assert (W.shape == (n_y, n_x))\n",
        "  assert (b.shape == (n_y, 1))\n",
        "\n",
        "  params ={\n",
        "      \"W\" : W,\n",
        "      \"b\" : b\n",
        "  }\n",
        "  return params\n"
      ],
      "metadata": {
        "id": "BL5pL9gSC8Z7"
      },
      "execution_count": 48,
      "outputs": []
    },
    {
      "cell_type": "code",
      "source": [
        "params=init_params(n_x, n_y)\n",
        "params"
      ],
      "metadata": {
        "colab": {
          "base_uri": "https://localhost:8080/"
        },
        "id": "G_VR81UMG3Gc",
        "outputId": "62176f22-61f1-4cfe-9925-2d267c3bfa5e"
      },
      "execution_count": 54,
      "outputs": [
        {
          "output_type": "execute_result",
          "data": {
            "text/plain": [
              "{'W': array([[0.00457034]]), 'b': array([[0.]])}"
            ]
          },
          "metadata": {},
          "execution_count": 54
        }
      ]
    },
    {
      "cell_type": "code",
      "source": [
        "def forward_prop(X,params):\n",
        "  W = params[\"W\"]\n",
        "  b = params[\"b\"]\n",
        "\n",
        "  Z=np.dot(W,X)+b\n",
        "  return Z\n"
      ],
      "metadata": {
        "id": "zEkHcfeQHV10"
      },
      "execution_count": 58,
      "outputs": []
    },
    {
      "cell_type": "code",
      "source": [
        "def forward_propagation(X, params):\n",
        "  W = params['W']\n",
        "  b = params['b']\n",
        "\n",
        "  Z = np.dot(W, X) + b\n",
        "  Y_hat = Z\n",
        "  assert (Y_hat.shape == (n_y, X.shape[1]))\n",
        "\n",
        "  return Y_hat"
      ],
      "metadata": {
        "id": "gMgYXioNJG9g"
      },
      "execution_count": 55,
      "outputs": []
    },
    {
      "cell_type": "code",
      "source": [
        "forward_prop(X,params)"
      ],
      "metadata": {
        "colab": {
          "base_uri": "https://localhost:8080/"
        },
        "id": "AXtrwOP_JNsE",
        "outputId": "6146d9e1-af0e-4cf3-b2f7-9ee41c7cf458"
      },
      "execution_count": 59,
      "outputs": [
        {
          "output_type": "execute_result",
          "data": {
            "text/plain": [
              "array([[ 0.00145812, -0.00490383,  0.00395521, -0.00078806,  0.00523178,\n",
              "         0.00229657, -0.01051881, -0.00312487, -0.00175526, -0.00401211,\n",
              "        -0.00941554, -0.0050302 , -0.00502688,  0.00518171,  0.00797438,\n",
              "        -0.00056165, -0.00427678,  0.00742381,  0.00668233,  0.00412058,\n",
              "        -0.00347897,  0.0024239 , -0.00241392, -0.00122434,  0.00266366,\n",
              "         0.00019293,  0.00411722, -0.00113971, -0.00279593, -0.00147356]])"
            ]
          },
          "metadata": {},
          "execution_count": 59
        }
      ]
    },
    {
      "cell_type": "code",
      "source": [
        "y_hat = forward_propagation(X,params)"
      ],
      "metadata": {
        "id": "fsjWStnRIosW"
      },
      "execution_count": 60,
      "outputs": []
    },
    {
      "cell_type": "markdown",
      "source": [
        "![](https://cdn.discordapp.com/attachments/1133439076641554453/1148866385074720839/image.png)"
      ],
      "metadata": {
        "id": "33RrwArkKp4m"
      }
    },
    {
      "cell_type": "code",
      "source": [
        "def compute_cost(y,y_hat):\n",
        "  m=y.shape[1]\n",
        "  diff=y_hat-y\n",
        "  sum= np.sum(diff**2)\n",
        "  output=(1/(2*m) )*sum\n",
        "  return output"
      ],
      "metadata": {
        "id": "SpjIpNc-Kncx"
      },
      "execution_count": 72,
      "outputs": []
    },
    {
      "cell_type": "code",
      "source": [
        "compute_cost(y,y_hat)"
      ],
      "metadata": {
        "colab": {
          "base_uri": "https://localhost:8080/"
        },
        "id": "ZTfnoON4L3Aw",
        "outputId": "3ada6002-dce7-4f1d-ddd8-5988222c79b5"
      },
      "execution_count": 73,
      "outputs": [
        {
          "output_type": "execute_result",
          "data": {
            "text/plain": [
              "790.7030196272387"
            ]
          },
          "metadata": {},
          "execution_count": 73
        }
      ]
    },
    {
      "cell_type": "code",
      "source": [
        "def compute_cost(Y_hat, Y):\n",
        "  m = Y.shape[1]\n",
        "  cost = np.sum((Y_hat - Y) ** 2) / (2 * m)\n",
        "\n",
        "  return cost"
      ],
      "metadata": {
        "id": "maMFV3UsL9rr"
      },
      "execution_count": 70,
      "outputs": []
    },
    {
      "cell_type": "code",
      "source": [
        "compute_cost(y_hat,y)"
      ],
      "metadata": {
        "colab": {
          "base_uri": "https://localhost:8080/"
        },
        "id": "lhhOEbfMMG-y",
        "outputId": "e44cdc1a-b207-460a-bf72-bc3de27a962b"
      },
      "execution_count": 71,
      "outputs": [
        {
          "output_type": "execute_result",
          "data": {
            "text/plain": [
              "790.7030196272387"
            ]
          },
          "metadata": {},
          "execution_count": 71
        }
      ]
    },
    {
      "cell_type": "code",
      "source": [
        "import numpy as np\n",
        "\n",
        "def backward_propagation(A, X, Y):\n",
        "    m = X.shape[1]\n",
        "\n",
        "    # Backward propagation: calculate dW, db.\n",
        "    dZ = A - Y\n",
        "    dW = 1/m * np.matmul(dZ, X.T)\n",
        "    db = 1/m * np.sum(dZ, axis = 1, keepdims = True)\n",
        "\n",
        "    grads = {\"dW\": dW,\n",
        "             \"db\": db}\n",
        "\n",
        "    return grads\n",
        "\n",
        "def update_parameters(parameters, grads, learning_rate = 1.2):\n",
        "    # Retrieve each parameter from the dictionary \"parameters\".\n",
        "    W = parameters[\"W\"]\n",
        "    b = parameters[\"b\"]\n",
        "\n",
        "    # Retrieve each gradient from the dictionary \"grads\".\n",
        "    dW = grads[\"dW\"]\n",
        "    db = grads[\"db\"]\n",
        "\n",
        "    # Update rule for each parameter.\n",
        "    W = W - learning_rate * dW\n",
        "    b = b - learning_rate * db\n",
        "\n",
        "    parameters = {\"W\": W,\n",
        "                  \"b\": b}\n",
        "\n",
        "    return parameters\n",
        "\n",
        "def train_nn(parameters, A, X, Y):\n",
        "    # Backpropagation. Inputs: \"A, X, Y\". Outputs: \"grads\".\n",
        "    grads = backward_propagation(A, X, Y)\n",
        "\n",
        "    # Gradient descent parameter update. Inputs: \"parameters, grads\". Outputs: \"parameters\".\n",
        "    parameters = update_parameters(parameters, grads)\n",
        "\n",
        "    return parameters"
      ],
      "metadata": {
        "id": "Y2uTbf1QMisR"
      },
      "execution_count": 74,
      "outputs": []
    },
    {
      "cell_type": "code",
      "source": [
        "def model(X,y,epochs=10):\n",
        "  n_x, n_y=layer_sizes(X, y)\n",
        "  params=init_params(n_x, n_y)\n",
        "  for i in range(epochs):\n",
        "    y_hat = forward_propagation(X, params)\n",
        "    cost=compute_cost(y, y_hat)\n",
        "    params=train_nn(params, y_hat, X, y)\n",
        "  return params\n"
      ],
      "metadata": {
        "id": "pwkdLTo3PH47"
      },
      "execution_count": 75,
      "outputs": []
    },
    {
      "cell_type": "code",
      "source": [
        "params = model(X,y,15)"
      ],
      "metadata": {
        "id": "l2VUmV5ySi1u"
      },
      "execution_count": 77,
      "outputs": []
    },
    {
      "cell_type": "code",
      "source": [
        "params"
      ],
      "metadata": {
        "colab": {
          "base_uri": "https://localhost:8080/"
        },
        "id": "5zNp5RqZStTu",
        "outputId": "d58c9ed1-2d87-484b-fa54-4f34c836f30e"
      },
      "execution_count": 78,
      "outputs": [
        {
          "output_type": "execute_result",
          "data": {
            "text/plain": [
              "{'W': array([[35.71958208]]), 'b': array([[2.2893077]])}"
            ]
          },
          "metadata": {},
          "execution_count": 78
        }
      ]
    },
    {
      "cell_type": "code",
      "source": [
        "X_pred = np.array([-0.95, 0.2, 1.5])\n",
        "\n",
        "fig, ax = plt.subplots()\n",
        "plt.scatter(X, y, color = 'black')\n",
        "W_simple = params['W']\n",
        "b_simple = params['b']\n",
        "\n",
        "X_line = np.arange(np.min(X[0, :]), np.max(X[0, :]) * 1.1, 0.1)\n",
        "ax.plot(X_line, W_simple[0, 0] * X_line + b_simple[0, 0], 'r')\n",
        "ax.plot(X_pred, W_simple[0, 0] * X_pred + b_simple[0, 0], 'bo')\n",
        "\n",
        "plt.plot()\n",
        "plt.show()"
      ],
      "metadata": {
        "colab": {
          "base_uri": "https://localhost:8080/",
          "height": 430
        },
        "id": "dZjtu2HASwFU",
        "outputId": "d81e5725-957c-4ce1-b93b-1fe56aa74079"
      },
      "execution_count": 80,
      "outputs": [
        {
          "output_type": "display_data",
          "data": {
            "text/plain": [
              "<Figure size 640x480 with 1 Axes>"
            ],
            "image/png": "[encoded data removed]"
          },
          "metadata": {}
        }
      ]
    },
    {
      "cell_type": "code",
      "source": [],
      "metadata": {
        "id": "0_Uc7PaUTKRJ"
      },
      "execution_count": null,
      "outputs": []
    }
  ]
}