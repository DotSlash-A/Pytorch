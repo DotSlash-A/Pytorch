{
  "nbformat": 4,
  "nbformat_minor": 0,
  "metadata": {
    "colab": {
      "provenance": [],
      "authorship_tag": "ABX9TyPsKBgg1FpdkCaPz/IoTHfH",
      "include_colab_link": true
    },
    "kernelspec": {
      "name": "python3",
      "display_name": "Python 3"
    },
    "language_info": {
      "name": "python"
    }
  },
  "cells": [
    {
      "cell_type": "markdown",
      "metadata": {
        "id": "view-in-github",
        "colab_type": "text"
      },
      "source": [
        "<a href=\"https://colab.research.google.com/github/DotSlash-A/Pytorch/blob/main/logreg_hw.ipynb\" target=\"_parent\"><img src=\"https://colab.research.google.com/assets/colab-badge.svg\" alt=\"Open In Colab\"/></a>"
      ]
    },
    {
      "cell_type": "code",
      "execution_count": 1,
      "metadata": {
        "id": "abLGaYdFAfoE"
      },
      "outputs": [],
      "source": [
        "import torch"
      ]
    },
    {
      "cell_type": "code",
      "source": [
        "import torch\n",
        "from sklearn.datasets import make_classification\n",
        "\n",
        "n = 1000\n",
        "# You can try with 10,000 samples after doing 1,000\n",
        "# n = 10000\n",
        "\n",
        "dataset = make_classification(\n",
        "  n_samples = n,\n",
        "  n_features = 2,\n",
        "  n_classes = 2,\n",
        "  shuffle = True,\n",
        "  n_informative = 2,\n",
        "  n_redundant = 0\n",
        ")\n",
        "X_new = torch.tensor(dataset[0], dtype = torch.float32)\n",
        "y_new = torch.tensor(dataset[1], dtype = torch.float32)\n",
        "\n",
        "# To normalize the dataset\n",
        "X_norm = (X_new - X_new.mean()) / X_new.std()"
      ],
      "metadata": {
        "id": "Rk2298EpBNY0"
      },
      "execution_count": 2,
      "outputs": []
    },
    {
      "cell_type": "code",
      "source": [
        "X_new"
      ],
      "metadata": {
        "colab": {
          "base_uri": "https://localhost:8080/"
        },
        "id": "iQOXxcXeEV_l",
        "outputId": "28d9d9aa-24d6-4711-898d-0b030f06672d"
      },
      "execution_count": 6,
      "outputs": [
        {
          "output_type": "execute_result",
          "data": {
            "text/plain": [
              "tensor([[ 1.5969, -0.4872],\n",
              "        [-0.6483,  0.8080],\n",
              "        [-1.2587, -0.7655],\n",
              "        ...,\n",
              "        [-1.6877,  2.3250],\n",
              "        [ 1.3123, -0.7227],\n",
              "        [-0.5905, -1.3288]])"
            ]
          },
          "metadata": {},
          "execution_count": 6
        }
      ]
    },
    {
      "cell_type": "code",
      "source": [
        "X_norm"
      ],
      "metadata": {
        "colab": {
          "base_uri": "https://localhost:8080/"
        },
        "id": "5y-QKs73EYhI",
        "outputId": "9af74060-2af1-4234-c912-7bca1244f9c6"
      },
      "execution_count": 4,
      "outputs": [
        {
          "output_type": "execute_result",
          "data": {
            "text/plain": [
              "tensor([[ 1.1773, -0.3531],\n",
              "        [-0.4715,  0.5980],\n",
              "        [-0.9197, -0.5575],\n",
              "        ...,\n",
              "        [-1.2348,  1.7121],\n",
              "        [ 0.9684, -0.5261],\n",
              "        [-0.4290, -0.9713]])"
            ]
          },
          "metadata": {},
          "execution_count": 4
        }
      ]
    },
    {
      "cell_type": "code",
      "source": [
        "y_new"
      ],
      "metadata": {
        "colab": {
          "base_uri": "https://localhost:8080/"
        },
        "id": "5w8rbBwrEeMC",
        "outputId": "b98469c3-43b2-43a4-c0f9-fcae6841d56a"
      },
      "execution_count": 5,
      "outputs": [
        {
          "output_type": "execute_result",
          "data": {
            "text/plain": [
              "tensor([0., 1., 0., 1., 0., 0., 0., 1., 1., 1., 1., 0., 1., 0., 1., 1., 1., 0.,\n",
              "        0., 0., 0., 1., 0., 1., 1., 1., 0., 0., 0., 1., 1., 1., 1., 0., 1., 0.,\n",
              "        1., 1., 0., 1., 0., 0., 1., 1., 1., 0., 1., 0., 0., 1., 0., 0., 1., 0.,\n",
              "        1., 1., 1., 1., 1., 1., 1., 1., 0., 0., 0., 1., 1., 0., 1., 0., 1., 1.,\n",
              "        1., 0., 0., 1., 1., 0., 0., 1., 0., 1., 0., 0., 1., 1., 0., 0., 0., 0.,\n",
              "        1., 1., 0., 0., 1., 1., 1., 1., 0., 0., 1., 0., 0., 0., 0., 1., 1., 0.,\n",
              "        1., 1., 0., 1., 0., 0., 0., 1., 0., 1., 0., 1., 0., 0., 0., 1., 0., 0.,\n",
              "        1., 1., 1., 1., 1., 1., 1., 0., 1., 0., 1., 0., 0., 0., 1., 0., 1., 0.,\n",
              "        1., 0., 1., 1., 0., 0., 1., 1., 1., 0., 0., 0., 0., 1., 1., 0., 1., 0.,\n",
              "        0., 1., 1., 0., 0., 0., 1., 1., 1., 0., 1., 0., 0., 1., 0., 1., 0., 0.,\n",
              "        1., 0., 0., 1., 1., 0., 0., 0., 0., 0., 0., 0., 0., 1., 0., 1., 1., 0.,\n",
              "        1., 1., 0., 0., 1., 0., 1., 0., 0., 0., 1., 0., 1., 1., 0., 0., 1., 0.,\n",
              "        1., 1., 1., 1., 0., 1., 1., 1., 1., 0., 1., 0., 0., 1., 0., 1., 1., 0.,\n",
              "        1., 0., 0., 1., 1., 1., 0., 1., 1., 1., 0., 1., 1., 0., 0., 0., 1., 1.,\n",
              "        0., 1., 0., 1., 1., 0., 0., 0., 0., 1., 1., 0., 1., 1., 0., 1., 1., 0.,\n",
              "        1., 1., 1., 1., 0., 1., 0., 1., 1., 0., 0., 1., 0., 1., 0., 1., 1., 1.,\n",
              "        1., 1., 0., 0., 0., 0., 0., 1., 1., 0., 0., 0., 1., 0., 0., 1., 1., 0.,\n",
              "        0., 1., 0., 0., 1., 1., 1., 0., 0., 1., 1., 0., 1., 1., 0., 1., 0., 0.,\n",
              "        0., 0., 1., 1., 1., 0., 1., 1., 0., 1., 1., 1., 1., 0., 1., 1., 1., 0.,\n",
              "        0., 0., 1., 1., 1., 0., 0., 1., 0., 0., 1., 1., 1., 0., 1., 0., 0., 0.,\n",
              "        0., 1., 0., 1., 1., 0., 1., 1., 1., 1., 1., 1., 1., 0., 1., 1., 0., 0.,\n",
              "        1., 0., 1., 1., 0., 1., 1., 1., 1., 0., 0., 1., 1., 0., 1., 0., 0., 0.,\n",
              "        1., 0., 0., 1., 1., 1., 0., 1., 1., 1., 0., 0., 1., 1., 1., 0., 1., 0.,\n",
              "        1., 1., 0., 0., 1., 1., 1., 0., 0., 1., 0., 0., 1., 0., 0., 0., 0., 1.,\n",
              "        0., 0., 1., 0., 1., 0., 1., 0., 1., 0., 1., 1., 0., 1., 1., 0., 1., 0.,\n",
              "        1., 0., 0., 0., 0., 1., 0., 1., 1., 0., 1., 1., 0., 1., 0., 0., 0., 1.,\n",
              "        0., 0., 0., 0., 0., 0., 1., 0., 1., 1., 1., 1., 0., 1., 1., 0., 0., 0.,\n",
              "        1., 0., 1., 1., 1., 0., 1., 0., 0., 0., 0., 0., 1., 1., 0., 1., 0., 0.,\n",
              "        0., 1., 0., 1., 0., 0., 1., 1., 0., 1., 1., 0., 1., 0., 1., 1., 0., 0.,\n",
              "        0., 0., 0., 1., 0., 0., 1., 0., 0., 1., 0., 1., 1., 1., 1., 0., 1., 0.,\n",
              "        0., 0., 1., 1., 0., 0., 0., 1., 1., 0., 1., 0., 0., 1., 0., 0., 0., 0.,\n",
              "        0., 0., 1., 0., 1., 0., 0., 1., 0., 1., 1., 0., 0., 1., 0., 0., 0., 0.,\n",
              "        0., 1., 0., 0., 1., 1., 0., 1., 0., 0., 0., 0., 1., 1., 1., 0., 0., 1.,\n",
              "        1., 1., 0., 1., 0., 0., 0., 0., 1., 0., 0., 1., 1., 1., 0., 1., 1., 1.,\n",
              "        0., 1., 0., 1., 0., 1., 1., 1., 0., 1., 0., 0., 0., 0., 0., 0., 1., 1.,\n",
              "        0., 0., 0., 1., 0., 1., 1., 1., 1., 1., 1., 1., 1., 0., 1., 1., 1., 0.,\n",
              "        1., 1., 1., 1., 1., 1., 1., 0., 0., 1., 1., 1., 0., 0., 0., 1., 0., 0.,\n",
              "        1., 0., 1., 1., 1., 0., 0., 0., 0., 0., 1., 1., 0., 0., 0., 0., 0., 0.,\n",
              "        0., 1., 1., 1., 1., 0., 0., 0., 0., 0., 0., 0., 0., 1., 1., 0., 1., 0.,\n",
              "        1., 1., 1., 1., 1., 0., 1., 0., 0., 1., 0., 1., 0., 1., 0., 1., 1., 1.,\n",
              "        1., 1., 1., 1., 0., 1., 1., 0., 0., 0., 1., 1., 1., 1., 0., 0., 0., 0.,\n",
              "        1., 0., 0., 0., 1., 0., 0., 1., 0., 1., 1., 1., 0., 0., 0., 1., 0., 1.,\n",
              "        0., 0., 1., 1., 0., 1., 1., 0., 0., 0., 0., 1., 0., 0., 0., 1., 1., 0.,\n",
              "        0., 0., 1., 0., 0., 1., 1., 1., 1., 0., 1., 1., 0., 1., 0., 1., 0., 0.,\n",
              "        0., 1., 1., 1., 1., 0., 1., 1., 1., 0., 1., 1., 1., 1., 0., 0., 0., 0.,\n",
              "        1., 1., 0., 1., 1., 0., 0., 1., 1., 0., 1., 0., 1., 0., 1., 1., 0., 0.,\n",
              "        0., 1., 1., 1., 1., 1., 0., 0., 1., 0., 0., 0., 0., 1., 0., 0., 0., 0.,\n",
              "        1., 1., 0., 1., 1., 1., 0., 1., 0., 0., 0., 0., 0., 0., 1., 1., 1., 0.,\n",
              "        0., 0., 1., 0., 0., 1., 0., 0., 0., 0., 0., 1., 1., 0., 0., 0., 1., 1.,\n",
              "        0., 0., 1., 1., 0., 0., 0., 0., 1., 0., 1., 1., 0., 0., 1., 0., 1., 1.,\n",
              "        1., 1., 1., 0., 0., 0., 1., 0., 1., 1., 0., 0., 0., 0., 0., 0., 1., 1.,\n",
              "        1., 1., 1., 1., 0., 0., 1., 1., 0., 0., 0., 1., 0., 1., 1., 1., 0., 1.,\n",
              "        0., 1., 0., 1., 0., 1., 1., 1., 0., 0., 0., 1., 0., 1., 0., 0., 0., 0.,\n",
              "        0., 1., 1., 1., 1., 1., 1., 0., 1., 1., 1., 1., 0., 0., 0., 1., 0., 1.,\n",
              "        0., 1., 0., 1., 1., 1., 0., 0., 1., 0., 1., 1., 0., 0., 1., 0., 1., 1.,\n",
              "        0., 1., 0., 0., 1., 1., 0., 1., 0., 0.])"
            ]
          },
          "metadata": {},
          "execution_count": 5
        }
      ]
    },
    {
      "cell_type": "code",
      "source": [
        "class logreg(torch.nn.Module):\n",
        "  def __init__(self):\n",
        "    super().__init__()\n",
        "    self.linear=torch.nn.Linear(2,1)\n",
        "\n",
        "  def forward(self,x):\n",
        "    out=self.linear(x)\n",
        "    sigmoid=torch.sigmoid(out)\n",
        "    return sigmoid\n"
      ],
      "metadata": {
        "id": "Ell7H_S3EgfQ"
      },
      "execution_count": 9,
      "outputs": []
    },
    {
      "cell_type": "code",
      "source": [
        "model=logreg()"
      ],
      "metadata": {
        "id": "GZbGsBjsIiFM"
      },
      "execution_count": 10,
      "outputs": []
    },
    {
      "cell_type": "code",
      "source": [
        "optimizer= torch.optim.SGD(model.parameters(), lr = 0.05)"
      ],
      "metadata": {
        "id": "jyVaXPqXO2ER"
      },
      "execution_count": 12,
      "outputs": []
    },
    {
      "cell_type": "code",
      "source": [
        "for epoch in range(25):\n",
        "  model = model.train()\n",
        "  for x_, y_ in zip(X_norm, y_new):\n",
        "    pred=model(x_)\n",
        "    loss=torch.nn.functional.binary_cross_entropy(pred,y_.view(1))\n",
        "    optimizer.zero_grad()\n",
        "\n",
        "    loss.backward()\n",
        "    optimizer.step()\n",
        "  print(f\"Epoch: {epoch + 1} \\t Loss: {loss:.3f}\")\n",
        "\n"
      ],
      "metadata": {
        "colab": {
          "base_uri": "https://localhost:8080/"
        },
        "id": "cn_Q_pkbJFvu",
        "outputId": "139c6f77-8b3c-4585-b21a-374cdce199b5"
      },
      "execution_count": 13,
      "outputs": [
        {
          "output_type": "stream",
          "name": "stdout",
          "text": [
            "Epoch: 1 \t Loss: 0.084\n",
            "Epoch: 2 \t Loss: 0.072\n",
            "Epoch: 3 \t Loss: 0.071\n",
            "Epoch: 4 \t Loss: 0.071\n",
            "Epoch: 5 \t Loss: 0.071\n",
            "Epoch: 6 \t Loss: 0.071\n",
            "Epoch: 7 \t Loss: 0.071\n",
            "Epoch: 8 \t Loss: 0.071\n",
            "Epoch: 9 \t Loss: 0.071\n",
            "Epoch: 10 \t Loss: 0.071\n",
            "Epoch: 11 \t Loss: 0.071\n",
            "Epoch: 12 \t Loss: 0.071\n",
            "Epoch: 13 \t Loss: 0.071\n",
            "Epoch: 14 \t Loss: 0.071\n",
            "Epoch: 15 \t Loss: 0.071\n",
            "Epoch: 16 \t Loss: 0.071\n",
            "Epoch: 17 \t Loss: 0.071\n",
            "Epoch: 18 \t Loss: 0.071\n",
            "Epoch: 19 \t Loss: 0.071\n",
            "Epoch: 20 \t Loss: 0.071\n",
            "Epoch: 21 \t Loss: 0.071\n",
            "Epoch: 22 \t Loss: 0.071\n",
            "Epoch: 23 \t Loss: 0.071\n",
            "Epoch: 24 \t Loss: 0.071\n",
            "Epoch: 25 \t Loss: 0.071\n"
          ]
        }
      ]
    },
    {
      "cell_type": "code",
      "source": [
        "def compute_accuracy(model,X,y):\n",
        "  model=model.eval()\n",
        "  correct = 0.0\n",
        "  total_examples= 0\n",
        "  for x_, y_ in zip(X, y):\n",
        "    with torch.no_grad():\n",
        "      pred=model(x_)\n",
        "\n",
        "    pred_count=torch.where(pred>0.5,1,0)\n",
        "    lab=y_.view(pred_count.shape).to(pred_count.dtype)\n",
        "    compare = lab ==pred_count\n",
        "    correct += torch.sum(compare)\n",
        "    total_examples += len(compare)\n",
        "  return correct/total_examples\n",
        "\n",
        "\n",
        "\n"
      ],
      "metadata": {
        "id": "Xzdde-ArJvVP"
      },
      "execution_count": 15,
      "outputs": []
    },
    {
      "cell_type": "code",
      "source": [
        "train_acc = compute_accuracy(model, X_norm,y_new)"
      ],
      "metadata": {
        "id": "4BBPtYyKQ5ZJ"
      },
      "execution_count": 17,
      "outputs": []
    },
    {
      "cell_type": "code",
      "source": [
        "train_acc"
      ],
      "metadata": {
        "colab": {
          "base_uri": "https://localhost:8080/"
        },
        "id": "HyvueY_BRISL",
        "outputId": "75dc8bf3-ab4e-42ed-c829-ca3c673ecb77"
      },
      "execution_count": 18,
      "outputs": [
        {
          "output_type": "execute_result",
          "data": {
            "text/plain": [
              "tensor(0.8490)"
            ]
          },
          "metadata": {},
          "execution_count": 18
        }
      ]
    },
    {
      "cell_type": "code",
      "source": [
        "def plot_boundary(model):\n",
        "  w1 = model.linear.weight[0][0].detach()\n",
        "  w2 = model.linear.weight[0][1].detach()\n",
        "  b = model.linear.bias[0].detach()\n",
        "\n",
        "  x1_min = -20\n",
        "  x2_min = (-(w1 * x1_min) - b) / w2\n",
        "\n",
        "  x1_max = 20\n",
        "  x2_max = (-(w1 * x1_max) - b) / w2\n",
        "\n",
        "  return x1_min, x1_max, x2_min, x2_max"
      ],
      "metadata": {
        "id": "JjVp1cR4RN5-"
      },
      "execution_count": 19,
      "outputs": []
    },
    {
      "cell_type": "code",
      "source": [
        "import matplotlib.pyplot as plt\n"
      ],
      "metadata": {
        "id": "C55gACdhRpzX"
      },
      "execution_count": 21,
      "outputs": []
    },
    {
      "cell_type": "code",
      "source": [
        "x1_min, x1_max, x2_min, x2_max = plot_boundary(model)\n",
        "\n",
        "\n",
        "plt.plot(\n",
        "    X_norm[y_new == 0, 0],\n",
        "    X_norm[y_new == 0, 1],\n",
        "    marker=\"D\",\n",
        "    markersize=10,\n",
        "    linestyle=\"\",\n",
        "    label=\"Class 0\",\n",
        ")\n",
        "\n",
        "plt.plot(\n",
        "    X_norm[y_new == 1, 0],\n",
        "    X_norm[y_new == 1, 1],\n",
        "    marker=\"^\",\n",
        "    markersize=13,\n",
        "    linestyle=\"\",\n",
        "    label=\"Class 1\",\n",
        ")\n",
        "\n",
        "plt.plot([x1_min, x1_max], [x2_min, x2_max], color=\"k\")\n",
        "\n",
        "plt.legend(loc=2)\n",
        "\n",
        "plt.xlim([-5, 5])\n",
        "plt.ylim([-5, 5])\n",
        "\n",
        "plt.xlabel(\"Feature \", fontsize=12)\n",
        "plt.ylabel(\"Feature \", fontsize=12)\n",
        "\n",
        "plt.grid()\n",
        "plt.show()"
      ],
      "metadata": {
        "colab": {
          "base_uri": "https://localhost:8080/",
          "height": 453
        },
        "id": "VlhiaDk6RW87",
        "outputId": "723e6c3c-b10f-4489-8ae4-116ff8e20c34"
      },
      "execution_count": 22,
      "outputs": [
        {
          "output_type": "display_data",
          "data": {
            "text/plain": [
              "<Figure size 640x480 with 1 Axes>"
            ],
            "image/png": "[encoded data removed]"
          },
          "metadata": {}
        }
      ]
    },
    {
      "cell_type": "code",
      "source": [],
      "metadata": {
        "id": "RMiqVVFmRcGD"
      },
      "execution_count": null,
      "outputs": []
    }
  ]
}