{
  "nbformat": 4,
  "nbformat_minor": 0,
  "metadata": {
    "colab": {
      "provenance": [],
      "gpuType": "T4",
      "authorship_tag": "ABX9TyOrYObl/5fD28IhUQ3N/W9l",
      "include_colab_link": true
    },
    "kernelspec": {
      "name": "python3",
      "display_name": "Python 3"
    },
    "language_info": {
      "name": "python"
    },
    "accelerator": "GPU"
  },
  "cells": [
    {
      "cell_type": "markdown",
      "metadata": {
        "id": "view-in-github",
        "colab_type": "text"
      },
      "source": [
        "<a href=\"https://colab.research.google.com/github/DotSlash-A/Pytorch/blob/main/MultiClassClassification_usingPytorch.ipynb\" target=\"_parent\"><img src=\"https://colab.research.google.com/assets/colab-badge.svg\" alt=\"Open In Colab\"/></a>"
      ]
    },
    {
      "cell_type": "code",
      "execution_count": 1,
      "metadata": {
        "id": "d6ioiCy2WHBJ"
      },
      "outputs": [],
      "source": [
        "import torch\n",
        "from torch import nn\n",
        "from torch.utils.data import DataLoader\n",
        "from torchvision import datasets\n",
        "from torchvision.transforms import ToTensor"
      ]
    },
    {
      "cell_type": "code",
      "source": [
        "batch_size = 64"
      ],
      "metadata": {
        "id": "-jYj3hpFWVvn"
      },
      "execution_count": 2,
      "outputs": []
    },
    {
      "cell_type": "code",
      "source": [
        "device = (\n",
        "    \"cuda\"\n",
        "    if torch.cuda.is_available()\n",
        "    else \"mps\"\n",
        "    if torch.backends.mps.is_available()\n",
        "    else \"cpu\"\n",
        ")\n",
        "print(f\"Using {device} device\")"
      ],
      "metadata": {
        "colab": {
          "base_uri": "https://localhost:8080/"
        },
        "id": "0cM9iW4lW3r-",
        "outputId": "abec81cc-9a51-4af4-ce46-2a477f00b922"
      },
      "execution_count": 3,
      "outputs": [
        {
          "output_type": "stream",
          "name": "stdout",
          "text": [
            "Using cuda device\n"
          ]
        }
      ]
    },
    {
      "cell_type": "code",
      "source": [
        "train = datasets.FashionMNIST(root=\"data\",train = True,transform=ToTensor(),download=True)"
      ],
      "metadata": {
        "colab": {
          "base_uri": "https://localhost:8080/"
        },
        "id": "HpsRUMRlW4dZ",
        "outputId": "02df50ec-9f39-43ca-ee45-edc3f7ba5437"
      },
      "execution_count": 4,
      "outputs": [
        {
          "output_type": "stream",
          "name": "stdout",
          "text": [
            "Downloading http://fashion-mnist.s3-website.eu-central-1.amazonaws.com/train-images-idx3-ubyte.gz\n",
            "Downloading http://fashion-mnist.s3-website.eu-central-1.amazonaws.com/train-images-idx3-ubyte.gz to data/FashionMNIST/raw/train-images-idx3-ubyte.gz\n"
          ]
        },
        {
          "output_type": "stream",
          "name": "stderr",
          "text": [
            "100%|██████████| 26421880/26421880 [00:02<00:00, 12660563.84it/s]\n"
          ]
        },
        {
          "output_type": "stream",
          "name": "stdout",
          "text": [
            "Extracting data/FashionMNIST/raw/train-images-idx3-ubyte.gz to data/FashionMNIST/raw\n",
            "\n",
            "Downloading http://fashion-mnist.s3-website.eu-central-1.amazonaws.com/train-labels-idx1-ubyte.gz\n",
            "Downloading http://fashion-mnist.s3-website.eu-central-1.amazonaws.com/train-labels-idx1-ubyte.gz to data/FashionMNIST/raw/train-labels-idx1-ubyte.gz\n"
          ]
        },
        {
          "output_type": "stream",
          "name": "stderr",
          "text": [
            "100%|██████████| 29515/29515 [00:00<00:00, 201711.00it/s]\n"
          ]
        },
        {
          "output_type": "stream",
          "name": "stdout",
          "text": [
            "Extracting data/FashionMNIST/raw/train-labels-idx1-ubyte.gz to data/FashionMNIST/raw\n",
            "\n",
            "Downloading http://fashion-mnist.s3-website.eu-central-1.amazonaws.com/t10k-images-idx3-ubyte.gz\n",
            "Downloading http://fashion-mnist.s3-website.eu-central-1.amazonaws.com/t10k-images-idx3-ubyte.gz to data/FashionMNIST/raw/t10k-images-idx3-ubyte.gz\n"
          ]
        },
        {
          "output_type": "stream",
          "name": "stderr",
          "text": [
            "100%|██████████| 4422102/4422102 [00:01<00:00, 3715230.16it/s]\n"
          ]
        },
        {
          "output_type": "stream",
          "name": "stdout",
          "text": [
            "Extracting data/FashionMNIST/raw/t10k-images-idx3-ubyte.gz to data/FashionMNIST/raw\n",
            "\n",
            "Downloading http://fashion-mnist.s3-website.eu-central-1.amazonaws.com/t10k-labels-idx1-ubyte.gz\n",
            "Downloading http://fashion-mnist.s3-website.eu-central-1.amazonaws.com/t10k-labels-idx1-ubyte.gz to data/FashionMNIST/raw/t10k-labels-idx1-ubyte.gz\n"
          ]
        },
        {
          "output_type": "stream",
          "name": "stderr",
          "text": [
            "100%|██████████| 5148/5148 [00:00<00:00, 5838906.70it/s]"
          ]
        },
        {
          "output_type": "stream",
          "name": "stdout",
          "text": [
            "Extracting data/FashionMNIST/raw/t10k-labels-idx1-ubyte.gz to data/FashionMNIST/raw\n",
            "\n"
          ]
        },
        {
          "output_type": "stream",
          "name": "stderr",
          "text": [
            "\n"
          ]
        }
      ]
    },
    {
      "cell_type": "code",
      "source": [
        "test_data = datasets.FashionMNIST(root=\"data\",train = False,transform=ToTensor(),download=True)"
      ],
      "metadata": {
        "id": "zldhDdPjYTLj"
      },
      "execution_count": 24,
      "outputs": []
    },
    {
      "cell_type": "code",
      "source": [
        "train_dataloader=DataLoader(train,batch_size)\n",
        "test_dataloader=DataLoader(test_data,batch_size)\n"
      ],
      "metadata": {
        "id": "OLhF-bxRYaB8"
      },
      "execution_count": 6,
      "outputs": []
    },
    {
      "cell_type": "code",
      "source": [
        "for X, y in test_dataloader:\n",
        "    print(f\"Shape of X [N, C, H, W]: {X.shape}\")\n",
        "    print(f\"Shape of y: {y.shape} {y.dtype}\")\n",
        "    break"
      ],
      "metadata": {
        "colab": {
          "base_uri": "https://localhost:8080/"
        },
        "id": "Kt986b-eZzY-",
        "outputId": "c0c656d9-3b15-4fb9-b462-ae725c3794ae"
      },
      "execution_count": 7,
      "outputs": [
        {
          "output_type": "stream",
          "name": "stdout",
          "text": [
            "Shape of X [N, C, H, W]: torch.Size([64, 1, 28, 28])\n",
            "Shape of y: torch.Size([64]) torch.int64\n"
          ]
        }
      ]
    },
    {
      "cell_type": "code",
      "source": [
        "class NeuralNetwork(nn.Module):\n",
        "  def __init__(self):\n",
        "    super().__init__()\n",
        "    self.flatten=nn.Flatten()\n",
        "    self.linear=nn.Sequential(\n",
        "          nn.Linear(28*28,512),\n",
        "          nn.ReLU(),\n",
        "          nn.Linear(512,512),\n",
        "          nn.ReLU(),\n",
        "          nn.Linear(512,10)\n",
        "        )\n",
        "\n",
        "  def forward(self,X):\n",
        "    X=self.flatten(X)\n",
        "    logits=self.linear(X)\n",
        "    return logits\n",
        "\n"
      ],
      "metadata": {
        "id": "dXUrLHlmYycA"
      },
      "execution_count": 10,
      "outputs": []
    },
    {
      "cell_type": "code",
      "source": [
        "model = NeuralNetwork().to(device)\n",
        "print(model)"
      ],
      "metadata": {
        "colab": {
          "base_uri": "https://localhost:8080/"
        },
        "id": "kVqYrtHudAQi",
        "outputId": "43522c80-b11c-49d0-d665-48e762647b57"
      },
      "execution_count": 11,
      "outputs": [
        {
          "output_type": "stream",
          "name": "stdout",
          "text": [
            "NeuralNetwork(\n",
            "  (flatten): Flatten(start_dim=1, end_dim=-1)\n",
            "  (linear): Sequential(\n",
            "    (0): Linear(in_features=784, out_features=512, bias=True)\n",
            "    (1): ReLU()\n",
            "    (2): Linear(in_features=512, out_features=512, bias=True)\n",
            "    (3): ReLU()\n",
            "    (4): Linear(in_features=512, out_features=10, bias=True)\n",
            "  )\n",
            ")\n"
          ]
        }
      ]
    },
    {
      "cell_type": "code",
      "source": [
        "loss = nn.CrossEntropyLoss()"
      ],
      "metadata": {
        "id": "tMoIq8kNdMn0"
      },
      "execution_count": 12,
      "outputs": []
    },
    {
      "cell_type": "code",
      "source": [
        "optimizer = torch.optim.SGD(model.parameters(), lr=1e-3)"
      ],
      "metadata": {
        "id": "4t24SooNdzis"
      },
      "execution_count": 14,
      "outputs": []
    },
    {
      "cell_type": "code",
      "source": [
        "def train_function(data,model,loss,optimizer):\n",
        "  model.train()\n",
        "  size = len(data.dataset)\n",
        "  for index, (X, y) in enumerate(data):\n",
        "    X, y = X.to(device), y.to(device)\n",
        "    logits=model(X)\n",
        "    loss_value=loss(logits,y)\n",
        "    # Backpropagation\n",
        "    loss_value.backward()\n",
        "    optimizer.step()\n",
        "    optimizer.zero_grad()\n",
        "\n",
        "    if index % 100 == 0:\n",
        "      loss_v, current = loss_value.item(), (index + 1) * len(X)\n",
        "      print(f\"Loss: {loss_v:>7f}  [{current:>5d}/{size:>5d}]\")\n",
        "\n",
        ""
      ],
      "metadata": {
        "id": "_HlKghP9eKqS"
      },
      "execution_count": 15,
      "outputs": []
    },
    {
      "cell_type": "code",
      "source": [
        "def test(dataloader, model, loss_fn):\n",
        "    size = len(dataloader.dataset)\n",
        "    num_batches = len(dataloader)\n",
        "    model.eval()\n",
        "    test_loss, correct = 0, 0\n",
        "    with torch.no_grad():\n",
        "        for X, y in dataloader:\n",
        "            X, y = X.to(device), y.to(device)\n",
        "            pred = model(X)\n",
        "            test_loss += loss_fn(pred, y).item()\n",
        "            correct += (pred.argmax(1) == y).type(torch.float).sum().item()\n",
        "    test_loss /= num_batches\n",
        "    correct /= size\n",
        "    print(f\"Test Error: \\n Accuracy: {(100*correct):>0.1f}%, Avg loss: {test_loss:>8f} \\n\")"
      ],
      "metadata": {
        "id": "FqyRxjl3gjGf"
      },
      "execution_count": 16,
      "outputs": []
    },
    {
      "cell_type": "code",
      "source": [
        "for i in range(10):\n",
        "  print(f\"Epoch {i+1}\\n-------------------------------\")\n",
        "  train_function(train_dataloader,model,loss,optimizer)\n",
        "  test(train_dataloader,model,loss)\n"
      ],
      "metadata": {
        "colab": {
          "base_uri": "https://localhost:8080/"
        },
        "id": "FY71YstkglwO",
        "outputId": "d584690a-6bf1-4960-de35-e02e4f75db66"
      },
      "execution_count": 17,
      "outputs": [
        {
          "output_type": "stream",
          "name": "stdout",
          "text": [
            "Epoch 1\n",
            "-------------------------------\n",
            "Loss: 2.303382  [   64/60000]\n",
            "Loss: 2.294966  [ 6464/60000]\n",
            "Loss: 2.275539  [12864/60000]\n",
            "Loss: 2.271707  [19264/60000]\n",
            "Loss: 2.264024  [25664/60000]\n",
            "Loss: 2.231974  [32064/60000]\n",
            "Loss: 2.243783  [38464/60000]\n",
            "Loss: 2.208949  [44864/60000]\n",
            "Loss: 2.197540  [51264/60000]\n",
            "Loss: 2.178336  [57664/60000]\n",
            "Test Error: \n",
            " Accuracy: 44.0%, Avg loss: 2.168692 \n",
            "\n",
            "Epoch 2\n",
            "-------------------------------\n",
            "Loss: 2.173498  [   64/60000]\n",
            "Loss: 2.167732  [ 6464/60000]\n",
            "Loss: 2.109536  [12864/60000]\n",
            "Loss: 2.127445  [19264/60000]\n",
            "Loss: 2.089387  [25664/60000]\n",
            "Loss: 2.024007  [32064/60000]\n",
            "Loss: 2.057349  [38464/60000]\n",
            "Loss: 1.977497  [44864/60000]\n",
            "Loss: 1.977076  [51264/60000]\n",
            "Loss: 1.918668  [57664/60000]\n",
            "Test Error: \n",
            " Accuracy: 56.8%, Avg loss: 1.907880 \n",
            "\n",
            "Epoch 3\n",
            "-------------------------------\n",
            "Loss: 1.931433  [   64/60000]\n",
            "Loss: 1.912718  [ 6464/60000]\n",
            "Loss: 1.789177  [12864/60000]\n",
            "Loss: 1.836709  [19264/60000]\n",
            "Loss: 1.739893  [25664/60000]\n",
            "Loss: 1.674297  [32064/60000]\n",
            "Loss: 1.708371  [38464/60000]\n",
            "Loss: 1.604082  [44864/60000]\n",
            "Loss: 1.625517  [51264/60000]\n",
            "Loss: 1.532745  [57664/60000]\n",
            "Test Error: \n",
            " Accuracy: 62.8%, Avg loss: 1.538264 \n",
            "\n",
            "Epoch 4\n",
            "-------------------------------\n",
            "Loss: 1.597249  [   64/60000]\n",
            "Loss: 1.573938  [ 6464/60000]\n",
            "Loss: 1.418512  [12864/60000]\n",
            "Loss: 1.496704  [19264/60000]\n",
            "Loss: 1.387652  [25664/60000]\n",
            "Loss: 1.365708  [32064/60000]\n",
            "Loss: 1.387234  [38464/60000]\n",
            "Loss: 1.312752  [44864/60000]\n",
            "Loss: 1.342969  [51264/60000]\n",
            "Loss: 1.249560  [57664/60000]\n",
            "Test Error: \n",
            " Accuracy: 64.4%, Avg loss: 1.266705 \n",
            "\n",
            "Epoch 5\n",
            "-------------------------------\n",
            "Loss: 1.341952  [   64/60000]\n",
            "Loss: 1.332197  [ 6464/60000]\n",
            "Loss: 1.164719  [12864/60000]\n",
            "Loss: 1.272666  [19264/60000]\n",
            "Loss: 1.154853  [25664/60000]\n",
            "Loss: 1.164400  [32064/60000]\n",
            "Loss: 1.187642  [38464/60000]\n",
            "Loss: 1.129511  [44864/60000]\n",
            "Loss: 1.164033  [51264/60000]\n",
            "Loss: 1.082809  [57664/60000]\n",
            "Test Error: \n",
            " Accuracy: 65.9%, Avg loss: 1.094737 \n",
            "\n",
            "Epoch 6\n",
            "-------------------------------\n",
            "Loss: 1.170305  [   64/60000]\n",
            "Loss: 1.176770  [ 6464/60000]\n",
            "Loss: 0.994807  [12864/60000]\n",
            "Loss: 1.129906  [19264/60000]\n",
            "Loss: 1.006423  [25664/60000]\n",
            "Loss: 1.026880  [32064/60000]\n",
            "Loss: 1.062955  [38464/60000]\n",
            "Loss: 1.010014  [44864/60000]\n",
            "Loss: 1.044255  [51264/60000]\n",
            "Loss: 0.977613  [57664/60000]\n",
            "Test Error: \n",
            " Accuracy: 67.1%, Avg loss: 0.981467 \n",
            "\n",
            "Epoch 7\n",
            "-------------------------------\n",
            "Loss: 1.049025  [   64/60000]\n",
            "Loss: 1.074676  [ 6464/60000]\n",
            "Loss: 0.876481  [12864/60000]\n",
            "Loss: 1.033895  [19264/60000]\n",
            "Loss: 0.911179  [25664/60000]\n",
            "Loss: 0.929818  [32064/60000]\n",
            "Loss: 0.981419  [38464/60000]\n",
            "Loss: 0.930848  [44864/60000]\n",
            "Loss: 0.959644  [51264/60000]\n",
            "Loss: 0.906912  [57664/60000]\n",
            "Test Error: \n",
            " Accuracy: 68.5%, Avg loss: 0.903457 \n",
            "\n",
            "Epoch 8\n",
            "-------------------------------\n",
            "Loss: 0.959279  [   64/60000]\n",
            "Loss: 1.003286  [ 6464/60000]\n",
            "Loss: 0.791006  [12864/60000]\n",
            "Loss: 0.966041  [19264/60000]\n",
            "Loss: 0.847590  [25664/60000]\n",
            "Loss: 0.859614  [32064/60000]\n",
            "Loss: 0.924346  [38464/60000]\n",
            "Loss: 0.877193  [44864/60000]\n",
            "Loss: 0.897882  [51264/60000]\n",
            "Loss: 0.855808  [57664/60000]\n",
            "Test Error: \n",
            " Accuracy: 69.8%, Avg loss: 0.847067 \n",
            "\n",
            "Epoch 9\n",
            "-------------------------------\n",
            "Loss: 0.889899  [   64/60000]\n",
            "Loss: 0.949853  [ 6464/60000]\n",
            "Loss: 0.726712  [12864/60000]\n",
            "Loss: 0.915466  [19264/60000]\n",
            "Loss: 0.802484  [25664/60000]\n",
            "Loss: 0.807135  [32064/60000]\n",
            "Loss: 0.881379  [38464/60000]\n",
            "Loss: 0.839339  [44864/60000]\n",
            "Loss: 0.851120  [51264/60000]\n",
            "Loss: 0.816641  [57664/60000]\n",
            "Test Error: \n",
            " Accuracy: 71.2%, Avg loss: 0.804225 \n",
            "\n",
            "Epoch 10\n",
            "-------------------------------\n",
            "Loss: 0.834077  [   64/60000]\n",
            "Loss: 0.906814  [ 6464/60000]\n",
            "Loss: 0.676432  [12864/60000]\n",
            "Loss: 0.876296  [19264/60000]\n",
            "Loss: 0.768600  [25664/60000]\n",
            "Loss: 0.767053  [32064/60000]\n",
            "Loss: 0.846746  [38464/60000]\n",
            "Loss: 0.811247  [44864/60000]\n",
            "Loss: 0.814531  [51264/60000]\n",
            "Loss: 0.784901  [57664/60000]\n",
            "Test Error: \n",
            " Accuracy: 72.5%, Avg loss: 0.770167 \n",
            "\n"
          ]
        }
      ]
    },
    {
      "cell_type": "code",
      "source": [
        "torch.save(model.state_dict(),\"model.pth\")"
      ],
      "metadata": {
        "id": "xnWNis3ThdcU"
      },
      "execution_count": 18,
      "outputs": []
    },
    {
      "cell_type": "code",
      "source": [
        "model = NeuralNetwork().to(device)\n",
        "model.load_state_dict(torch.load(\"model.pth\"))"
      ],
      "metadata": {
        "colab": {
          "base_uri": "https://localhost:8080/"
        },
        "id": "mf8QtbmgiUT-",
        "outputId": "e471098c-7eef-4a05-a2f5-9da03da2ae2b"
      },
      "execution_count": 19,
      "outputs": [
        {
          "output_type": "execute_result",
          "data": {
            "text/plain": [
              "<All keys matched successfully>"
            ]
          },
          "metadata": {},
          "execution_count": 19
        }
      ]
    },
    {
      "cell_type": "code",
      "source": [
        "classes = [\n",
        "  \"T-shirt/top\",\n",
        "  \"Trouser\",\n",
        "  \"Pullover\",\n",
        "  \"Dress\",\n",
        "  \"Coat\",\n",
        "  \"Sandal\",\n",
        "  \"Shirt\",\n",
        "  \"Sneaker\",\n",
        "  \"Bag\",\n",
        "  \"Ankle boot\",\n",
        "]"
      ],
      "metadata": {
        "id": "kZzlWp1jifyH"
      },
      "execution_count": 20,
      "outputs": []
    },
    {
      "cell_type": "code",
      "source": [
        "model.eval()"
      ],
      "metadata": {
        "colab": {
          "base_uri": "https://localhost:8080/"
        },
        "id": "JaHqro6Ui2dR",
        "outputId": "bb3ee418-3137-4124-eeae-fae90a4f07c2"
      },
      "execution_count": 21,
      "outputs": [
        {
          "output_type": "execute_result",
          "data": {
            "text/plain": [
              "NeuralNetwork(\n",
              "  (flatten): Flatten(start_dim=1, end_dim=-1)\n",
              "  (linear): Sequential(\n",
              "    (0): Linear(in_features=784, out_features=512, bias=True)\n",
              "    (1): ReLU()\n",
              "    (2): Linear(in_features=512, out_features=512, bias=True)\n",
              "    (3): ReLU()\n",
              "    (4): Linear(in_features=512, out_features=10, bias=True)\n",
              "  )\n",
              ")"
            ]
          },
          "metadata": {},
          "execution_count": 21
        }
      ]
    },
    {
      "cell_type": "code",
      "source": [
        "x, y = test_data[100][0], test_data[100][1]"
      ],
      "metadata": {
        "id": "YwXyHkggi8vm"
      },
      "execution_count": 42,
      "outputs": []
    },
    {
      "cell_type": "code",
      "source": [
        "!pip install Pillow"
      ],
      "metadata": {
        "colab": {
          "base_uri": "https://localhost:8080/"
        },
        "id": "arcQTBzNk6Wf",
        "outputId": "4d63abd9-2d32-4c3d-8a9a-5b105384d5a9"
      },
      "execution_count": 49,
      "outputs": [
        {
          "output_type": "stream",
          "name": "stdout",
          "text": [
            "Requirement already satisfied: Pillow in /usr/local/lib/python3.10/dist-packages (9.4.0)\n"
          ]
        }
      ]
    },
    {
      "cell_type": "code",
      "source": [
        "import torchvision.transforms as T"
      ],
      "metadata": {
        "id": "W0lRAASnlm2e"
      },
      "execution_count": 51,
      "outputs": []
    },
    {
      "cell_type": "code",
      "source": [
        "from PIL import Image\n",
        "transform = T.ToPILImage()\n",
        "img = transform(x)\n",
        "img.save(\"img.jpg\")\n"
      ],
      "metadata": {
        "id": "VtPCnlyElMlg"
      },
      "execution_count": 55,
      "outputs": []
    },
    {
      "cell_type": "code",
      "source": [
        "img.show()"
      ],
      "metadata": {
        "id": "g15Shou4l1sp"
      },
      "execution_count": 54,
      "outputs": []
    },
    {
      "cell_type": "code",
      "source": [
        "x"
      ],
      "metadata": {
        "colab": {
          "base_uri": "https://localhost:8080/"
        },
        "id": "IsyeaSz5kixs",
        "outputId": "83c7e94f-52f9-42e6-d54c-6e017bfea29d"
      },
      "execution_count": 47,
      "outputs": [
        {
          "output_type": "execute_result",
          "data": {
            "text/plain": [
              "tensor([[[0.0000, 0.0000, 0.0000, 0.0000, 0.0000, 0.0000, 0.0000, 0.0000,\n",
              "          0.0000, 0.1373, 0.2980, 0.2824, 0.0000, 0.0000, 0.0000, 0.0000,\n",
              "          0.3176, 0.2980, 0.0078, 0.0706, 0.0000, 0.0000, 0.0000, 0.0000,\n",
              "          0.0000, 0.0000, 0.0000, 0.0000],\n",
              "         [0.0000, 0.0000, 0.0000, 0.0000, 0.0000, 0.0000, 0.0000, 0.0000,\n",
              "          0.3843, 0.8118, 0.9412, 0.7137, 0.3765, 0.5098, 0.5412, 0.4235,\n",
              "          0.5882, 0.7490, 0.7569, 0.6745, 0.3059, 0.0000, 0.0000, 0.0000,\n",
              "          0.0000, 0.0000, 0.0000, 0.0000],\n",
              "         [0.0000, 0.0000, 0.0000, 0.0000, 0.0000, 0.0000, 0.0000, 0.2314,\n",
              "          0.6118, 0.5882, 0.8745, 0.7608, 0.8078, 0.5294, 0.5098, 0.2588,\n",
              "          0.0392, 0.3529, 0.6000, 0.7020, 0.8941, 0.1804, 0.0000, 0.0000,\n",
              "          0.0000, 0.0000, 0.0000, 0.0000],\n",
              "         [0.0000, 0.0000, 0.0000, 0.0000, 0.0000, 0.0000, 0.0000, 0.4471,\n",
              "          0.6314, 0.6118, 0.8314, 0.6980, 0.7843, 0.7255, 0.2941, 0.5098,\n",
              "          0.7529, 0.2471, 0.4549, 0.4314, 0.6392, 0.2275, 0.0000, 0.0000,\n",
              "          0.0000, 0.0000, 0.0000, 0.0000],\n",
              "         [0.0000, 0.0000, 0.0000, 0.0000, 0.0000, 0.0000, 0.0000, 0.0000,\n",
              "          0.4824, 1.0000, 0.8000, 0.6157, 0.3725, 0.5529, 0.1725, 0.2510,\n",
              "          0.3529, 0.1922, 0.4784, 0.0588, 0.0000, 0.0000, 0.0000, 0.0000,\n",
              "          0.0000, 0.0000, 0.0000, 0.0000],\n",
              "         [0.0000, 0.0000, 0.0000, 0.0000, 0.0000, 0.0000, 0.0000, 0.0000,\n",
              "          0.0000, 0.0824, 0.8588, 0.7373, 0.6157, 0.6353, 0.2549, 0.4667,\n",
              "          0.2471, 0.4706, 0.2431, 0.0000, 0.0000, 0.0000, 0.0000, 0.0000,\n",
              "          0.0000, 0.0000, 0.0000, 0.0000],\n",
              "         [0.0000, 0.0000, 0.0000, 0.0000, 0.0000, 0.0000, 0.0000, 0.0000,\n",
              "          0.0000, 0.0000, 0.6314, 0.6549, 0.8078, 0.7961, 0.3020, 0.2471,\n",
              "          0.2275, 0.4314, 0.2078, 0.0000, 0.0039, 0.0000, 0.0000, 0.0000,\n",
              "          0.0000, 0.0000, 0.0000, 0.0000],\n",
              "         [0.0000, 0.0000, 0.0000, 0.0000, 0.0000, 0.0000, 0.0000, 0.0000,\n",
              "          0.0000, 0.0000, 0.4314, 0.3176, 0.7098, 0.7569, 0.6353, 0.2784,\n",
              "          0.1412, 0.2745, 0.2196, 0.0000, 0.0039, 0.0000, 0.0000, 0.0000,\n",
              "          0.0000, 0.0000, 0.0000, 0.0000],\n",
              "         [0.0000, 0.0000, 0.0000, 0.0000, 0.0000, 0.0000, 0.0000, 0.0039,\n",
              "          0.0000, 0.0000, 0.4078, 0.3373, 0.8784, 0.8196, 0.7255, 0.4118,\n",
              "          0.1294, 0.5569, 0.1451, 0.0000, 0.0078, 0.0000, 0.0000, 0.0000,\n",
              "          0.0000, 0.0000, 0.0000, 0.0000],\n",
              "         [0.0000, 0.0000, 0.0000, 0.0000, 0.0000, 0.0000, 0.0000, 0.0039,\n",
              "          0.0000, 0.0000, 0.4275, 0.3098, 0.8549, 0.0706, 0.3725, 0.7098,\n",
              "          0.1333, 0.7255, 0.2196, 0.0000, 0.0039, 0.0000, 0.0000, 0.0000,\n",
              "          0.0000, 0.0000, 0.0000, 0.0000],\n",
              "         [0.0000, 0.0000, 0.0000, 0.0000, 0.0000, 0.0000, 0.0000, 0.0000,\n",
              "          0.0000, 0.0314, 0.4471, 0.4196, 0.3843, 0.2510, 0.2431, 0.1725,\n",
              "          0.5686, 0.8000, 0.3529, 0.0000, 0.0078, 0.0000, 0.0000, 0.0000,\n",
              "          0.0000, 0.0000, 0.0000, 0.0000],\n",
              "         [0.0000, 0.0000, 0.0000, 0.0000, 0.0000, 0.0000, 0.0000, 0.0000,\n",
              "          0.0000, 0.0392, 0.4275, 0.4510, 0.4314, 0.4510, 0.1333, 0.4314,\n",
              "          0.8039, 0.8039, 0.3373, 0.0000, 0.0000, 0.0000, 0.0000, 0.0000,\n",
              "          0.0000, 0.0000, 0.0000, 0.0000],\n",
              "         [0.0000, 0.0000, 0.0000, 0.0000, 0.0000, 0.0000, 0.0000, 0.0000,\n",
              "          0.0000, 0.2745, 0.7255, 0.5686, 0.5451, 0.5647, 0.1843, 0.9412,\n",
              "          0.7843, 0.7176, 0.5569, 0.0078, 0.0000, 0.0078, 0.0000, 0.0000,\n",
              "          0.0000, 0.0000, 0.0000, 0.0000],\n",
              "         [0.0000, 0.0000, 0.0000, 0.0000, 0.0000, 0.0000, 0.0000, 0.0000,\n",
              "          0.0000, 0.4039, 0.6157, 0.4275, 0.2118, 0.5843, 1.0000, 0.7608,\n",
              "          0.2157, 0.5882, 0.7804, 0.1647, 0.0000, 0.0196, 0.0000, 0.0000,\n",
              "          0.0000, 0.0000, 0.0000, 0.0000],\n",
              "         [0.0000, 0.0000, 0.0000, 0.0000, 0.0000, 0.0000, 0.0000, 0.0000,\n",
              "          0.0000, 0.2980, 0.2863, 0.5922, 0.7686, 0.9294, 0.8706, 0.2353,\n",
              "          0.4667, 0.4235, 0.4471, 0.1137, 0.0000, 0.0118, 0.0000, 0.0000,\n",
              "          0.0000, 0.0000, 0.0000, 0.0000],\n",
              "         [0.0000, 0.0000, 0.0000, 0.0000, 0.0000, 0.0000, 0.0000, 0.0000,\n",
              "          0.0000, 0.3216, 0.2510, 0.4706, 0.6118, 0.4863, 0.9843, 0.5333,\n",
              "          0.1412, 0.3216, 0.6706, 0.0431, 0.0000, 0.0039, 0.0000, 0.0000,\n",
              "          0.0000, 0.0000, 0.0000, 0.0000],\n",
              "         [0.0000, 0.0000, 0.0000, 0.0000, 0.0000, 0.0000, 0.0000, 0.0000,\n",
              "          0.0000, 0.0549, 0.2980, 0.1490, 0.0902, 0.1529, 0.8824, 0.8039,\n",
              "          0.5765, 0.6667, 0.9765, 0.0078, 0.0000, 0.0078, 0.0000, 0.0000,\n",
              "          0.0000, 0.0000, 0.0000, 0.0000],\n",
              "         [0.0000, 0.0000, 0.0000, 0.0000, 0.0000, 0.0000, 0.0000, 0.0039,\n",
              "          0.0000, 0.3255, 0.6196, 0.1176, 0.1608, 0.2627, 0.9333, 0.8706,\n",
              "          0.8392, 0.8588, 0.7059, 0.0000, 0.0000, 0.0039, 0.0000, 0.0000,\n",
              "          0.0000, 0.0000, 0.0000, 0.0000],\n",
              "         [0.0000, 0.0000, 0.0000, 0.0000, 0.0000, 0.0000, 0.0000, 0.0118,\n",
              "          0.0000, 0.4627, 0.8275, 0.2745, 0.6902, 0.2471, 0.7490, 0.0314,\n",
              "          0.5529, 0.8431, 0.4941, 0.0000, 0.0000, 0.0000, 0.0000, 0.0000,\n",
              "          0.0000, 0.0000, 0.0000, 0.0000],\n",
              "         [0.0000, 0.0000, 0.0000, 0.0000, 0.0000, 0.0000, 0.0000, 0.0118,\n",
              "          0.0000, 0.2235, 0.9176, 0.6784, 0.5686, 0.4824, 0.3882, 0.5020,\n",
              "          0.3569, 0.8275, 0.4784, 0.0000, 0.0000, 0.0000, 0.0000, 0.0000,\n",
              "          0.0000, 0.0000, 0.0000, 0.0000],\n",
              "         [0.0000, 0.0000, 0.0000, 0.0000, 0.0000, 0.0000, 0.0000, 0.0078,\n",
              "          0.0000, 0.1059, 0.8471, 0.6510, 0.3255, 0.2392, 0.6588, 0.5725,\n",
              "          0.4706, 0.5804, 0.4549, 0.0000, 0.0000, 0.0000, 0.0000, 0.0000,\n",
              "          0.0000, 0.0000, 0.0000, 0.0000],\n",
              "         [0.0000, 0.0000, 0.0000, 0.0000, 0.0000, 0.0000, 0.0000, 0.0078,\n",
              "          0.0000, 0.0118, 0.8627, 0.7020, 0.3569, 0.3569, 0.6471, 0.6588,\n",
              "          0.6314, 0.6235, 0.3020, 0.0000, 0.0078, 0.0000, 0.0000, 0.0000,\n",
              "          0.0000, 0.0000, 0.0000, 0.0000],\n",
              "         [0.0000, 0.0000, 0.0000, 0.0000, 0.0000, 0.0000, 0.0000, 0.0000,\n",
              "          0.0000, 0.0000, 0.6784, 0.5882, 0.8039, 0.8863, 0.6627, 0.7843,\n",
              "          0.7412, 0.6941, 0.1882, 0.0000, 0.0078, 0.0000, 0.0000, 0.0000,\n",
              "          0.0000, 0.0000, 0.0000, 0.0000],\n",
              "         [0.0000, 0.0000, 0.0000, 0.0000, 0.0000, 0.0000, 0.0000, 0.0000,\n",
              "          0.0000, 0.0000, 0.6706, 0.7882, 0.9294, 0.7176, 0.5333, 0.7725,\n",
              "          0.7373, 0.4353, 0.1373, 0.0000, 0.0078, 0.0000, 0.0000, 0.0000,\n",
              "          0.0000, 0.0000, 0.0000, 0.0000],\n",
              "         [0.0000, 0.0000, 0.0000, 0.0000, 0.0000, 0.0000, 0.0000, 0.0039,\n",
              "          0.0000, 0.0000, 0.6000, 0.8196, 0.9020, 0.7843, 0.7529, 0.4902,\n",
              "          0.3686, 0.1216, 0.0667, 0.0000, 0.0078, 0.0000, 0.0000, 0.0000,\n",
              "          0.0000, 0.0000, 0.0000, 0.0000],\n",
              "         [0.0000, 0.0000, 0.0000, 0.0000, 0.0000, 0.0000, 0.0000, 0.0000,\n",
              "          0.0000, 0.0000, 0.7137, 0.9216, 0.8667, 0.7843, 0.8549, 0.5765,\n",
              "          0.4627, 0.7098, 0.0000, 0.0000, 0.0039, 0.0000, 0.0000, 0.0000,\n",
              "          0.0000, 0.0000, 0.0000, 0.0000],\n",
              "         [0.0000, 0.0000, 0.0000, 0.0000, 0.0000, 0.0000, 0.0000, 0.0000,\n",
              "          0.0000, 0.0000, 0.5961, 0.8392, 0.9373, 0.9020, 0.8549, 0.7647,\n",
              "          0.5843, 0.6980, 0.0118, 0.0000, 0.0039, 0.0000, 0.0000, 0.0000,\n",
              "          0.0000, 0.0000, 0.0000, 0.0000],\n",
              "         [0.0000, 0.0000, 0.0000, 0.0000, 0.0000, 0.0000, 0.0000, 0.0039,\n",
              "          0.0000, 0.0000, 0.0000, 0.1294, 0.5255, 0.5765, 0.4824, 0.3765,\n",
              "          0.3686, 0.1255, 0.0000, 0.0039, 0.0000, 0.0000, 0.0000, 0.0000,\n",
              "          0.0000, 0.0000, 0.0000, 0.0000]]], device='cuda:0')"
            ]
          },
          "metadata": {},
          "execution_count": 47
        }
      ]
    },
    {
      "cell_type": "code",
      "source": [
        "with torch.no_grad():\n",
        "  x=x.to(device)\n",
        "  prediction=model(x)"
      ],
      "metadata": {
        "id": "3F0igYMgjIyU"
      },
      "execution_count": 43,
      "outputs": []
    },
    {
      "cell_type": "code",
      "source": [
        "prediction"
      ],
      "metadata": {
        "colab": {
          "base_uri": "https://localhost:8080/"
        },
        "id": "sTIlRaTMj0kp",
        "outputId": "d514c675-93ce-4e84-9ed1-cbad7bf0f165"
      },
      "execution_count": 44,
      "outputs": [
        {
          "output_type": "execute_result",
          "data": {
            "text/plain": [
              "tensor([[ 1.7656,  3.2944, -0.5717,  4.3496,  0.3793, -2.0323,  0.5966, -2.5670,\n",
              "         -1.8252, -2.4632]], device='cuda:0')"
            ]
          },
          "metadata": {},
          "execution_count": 44
        }
      ]
    },
    {
      "cell_type": "code",
      "source": [
        "classes[prediction[0].argmax(0)]"
      ],
      "metadata": {
        "colab": {
          "base_uri": "https://localhost:8080/",
          "height": 36
        },
        "id": "3VywHDY9j3hf",
        "outputId": "0db96504-462d-460c-cb2a-2b3d86332d49"
      },
      "execution_count": 45,
      "outputs": [
        {
          "output_type": "execute_result",
          "data": {
            "text/plain": [
              "'Dress'"
            ],
            "application/vnd.google.colaboratory.intrinsic+json": {
              "type": "string"
            }
          },
          "metadata": {},
          "execution_count": 45
        }
      ]
    },
    {
      "cell_type": "code",
      "source": [
        "classes[y]"
      ],
      "metadata": {
        "colab": {
          "base_uri": "https://localhost:8080/",
          "height": 36
        },
        "id": "_H5R3UlWkCvp",
        "outputId": "9b2885a3-58fe-4972-e95d-9c7baabcff8d"
      },
      "execution_count": 46,
      "outputs": [
        {
          "output_type": "execute_result",
          "data": {
            "text/plain": [
              "'Dress'"
            ],
            "application/vnd.google.colaboratory.intrinsic+json": {
              "type": "string"
            }
          },
          "metadata": {},
          "execution_count": 46
        }
      ]
    },
    {
      "cell_type": "code",
      "source": [
        "print"
      ],
      "metadata": {
        "id": "Y4NFmVagkRZF"
      },
      "execution_count": 36,
      "outputs": []
    }
  ]
}